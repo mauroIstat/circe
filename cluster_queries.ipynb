{
 "cells": [
  {
   "cell_type": "code",
   "execution_count": null,
   "id": "c2b828d3",
   "metadata": {},
   "outputs": [],
   "source": [
    "!pip install fuzzywuzzy python-Levenshtein"
   ]
  },
  {
   "cell_type": "code",
   "execution_count": null,
   "id": "249fed94",
   "metadata": {},
   "outputs": [],
   "source": [
    "import pandas as pd\n",
    "from collections import Counter\n",
    "from fuzzywuzzy import fuzz"
   ]
  },
  {
   "cell_type": "markdown",
   "id": "be19384d",
   "metadata": {},
   "source": [
    "Read CIRCE query raw dataset"
   ]
  },
  {
   "cell_type": "code",
   "execution_count": null,
   "id": "f95974bb",
   "metadata": {},
   "outputs": [],
   "source": [
    "df_circe = pd.read_csv(\"data/circe_queries_raw.csv\", sep=\";\", dtype={\"codice_C\": \"Int64\", \"coere5\": \"Int64\"}\n",
    ")"
   ]
  },
  {
   "cell_type": "markdown",
   "id": "65b7eee1",
   "metadata": {},
   "source": [
    "Select & rename columns"
   ]
  },
  {
   "cell_type": "code",
   "execution_count": null,
   "id": "e18ce7e8",
   "metadata": {},
   "outputs": [],
   "source": [
    "columns_to_keep = [\n",
    "    'RICHIESTA_UTENTE_SUPER_CLEAN',\n",
    "    'NWORD',\n",
    "    'codice_C',\n",
    "    'coere5']\n",
    "\n",
    "columns_to_rename = {\n",
    "\t'RICHIESTA_UTENTE_SUPER_CLEAN': 'query', \n",
    "    'NWORD': 'nword',\n",
    "\t'codice_C': 'codice_circe', \n",
    "    'coere5': 'coerenza'}\n",
    "    \n",
    "df_circe = df_circe[columns_to_keep].rename(columns=columns_to_rename)"
   ]
  },
  {
   "cell_type": "code",
   "execution_count": null,
   "id": "656f820e",
   "metadata": {},
   "outputs": [],
   "source": [
    "# Normalizzazione del testo\n",
    "df_circe[\"query_clean\"] = (\n",
    "    df_circe[\"query\"]\n",
    "    .str.lower()\n",
    "    .str.strip()\n",
    ")"
   ]
  },
  {
   "cell_type": "markdown",
   "id": "909f14bf",
   "metadata": {},
   "source": [
    "Filter rows where 'coerenza' is 1"
   ]
  },
  {
   "cell_type": "code",
   "execution_count": null,
   "id": "8f01d73e",
   "metadata": {},
   "outputs": [],
   "source": [
    "df_circe_filtered = df_circe[df_circe['coerenza'] == 1]"
   ]
  },
  {
   "cell_type": "code",
   "execution_count": null,
   "id": "57d408cb",
   "metadata": {},
   "outputs": [],
   "source": [
    "df_circe_filtered.head()"
   ]
  },
  {
   "cell_type": "code",
   "execution_count": null,
   "id": "ac9d35de",
   "metadata": {},
   "outputs": [],
   "source": [
    "df_circe_filtered.value_counts('nword').sort_index()"
   ]
  },
  {
   "cell_type": "code",
   "execution_count": null,
   "id": "4c80651a",
   "metadata": {},
   "outputs": [],
   "source": [
    "df_circe_filtered.value_counts('nword').sort_index().plot()"
   ]
  },
  {
   "cell_type": "markdown",
   "id": "89d4aa19",
   "metadata": {},
   "source": [
    "Find the nword value corresponding to THRESHOLD of observations"
   ]
  },
  {
   "cell_type": "code",
   "execution_count": null,
   "id": "17df990e",
   "metadata": {},
   "outputs": [],
   "source": [
    "THRESHOLD = 85\n",
    "\n",
    "counts = df_circe_filtered['nword'].value_counts().sort_index()  # ordina per valore crescente di nword\n",
    "\n",
    "# Totale delle osservazioni\n",
    "total = counts.sum()\n",
    "\n",
    "# Somma cumulativa\n",
    "cum_counts = counts.cumsum()\n",
    "\n",
    "# Calcolo soglia THRESHOLD\n",
    "threshold = total * THRESHOLD / 100\n",
    "\n",
    "# Trova il primo valore di nword per cui la somma cumulativa supera l’85%\n",
    "nword_threshold = cum_counts[cum_counts >= threshold].index[0]\n",
    "\n",
    "print(f\"Il valore di nword che copre l'{THRESHOLD}% delle osservazioni è: {nword_threshold}\")\n"
   ]
  },
  {
   "cell_type": "code",
   "execution_count": null,
   "id": "389b99a0",
   "metadata": {},
   "outputs": [],
   "source": [
    "df_circe_filtered_threshold = df_circe_filtered[df_circe_filtered['nword'] <= nword_threshold]"
   ]
  },
  {
   "cell_type": "code",
   "execution_count": null,
   "id": "dcf37588",
   "metadata": {},
   "outputs": [],
   "source": [
    "df_circe_filtered_threshold.value_counts('nword').sort_index()"
   ]
  },
  {
   "cell_type": "code",
   "execution_count": null,
   "id": "61b2e940",
   "metadata": {},
   "outputs": [],
   "source": [
    "df_circe_filtered_threshold.shape"
   ]
  },
  {
   "cell_type": "code",
   "execution_count": null,
   "id": "5ee2577c",
   "metadata": {},
   "outputs": [],
   "source": [
    "# === 2. Funzione per clusterizzare testi simili ===\n",
    "def clusterizza_testi(testi, soglia=80):\n",
    "    testi = list(testi)  # non tolgo duplicati (servono per frequenza)\n",
    "    unici = list(set(testi))\n",
    "    cluster = []\n",
    "    while unici:\n",
    "        base = unici.pop(0)\n",
    "        gruppo = [base]\n",
    "        simili = [t for t in unici if fuzz.ratio(base, t) >= soglia]\n",
    "        for s in simili:\n",
    "            unici.remove(s)\n",
    "            gruppo.append(s)\n",
    "        cluster.append(gruppo)\n",
    "    return cluster"
   ]
  },
  {
   "cell_type": "code",
   "execution_count": null,
   "id": "c1441547",
   "metadata": {},
   "outputs": [],
   "source": [
    "# === 3. Funzione per scegliere label rappresentativa ===\n",
    "def scegli_label(gruppo, tutti_testi):\n",
    "    counts = Counter([t for t in tutti_testi if t in gruppo])\n",
    "    max_freq = max(counts.values())\n",
    "    candidati = [t for t, c in counts.items() if c == max_freq]\n",
    "    \n",
    "    # ----------------------------------------------------------\n",
    "    # Se più candidati → prendo quello più lungo (più leggibile)\n",
    "    # DA RIVEDERE: forse meglio media lunghezza?\n",
    "    # ----------------------------------------------------------\n",
    "    return max(candidati, key=len)"
   ]
  },
  {
   "cell_type": "code",
   "execution_count": null,
   "id": "7b522100",
   "metadata": {},
   "outputs": [],
   "source": [
    "# === 4. Applico il clustering per ogni codice_circe e nword ===\n",
    "risultati = []\n",
    "for (codice, nword), subset in df_circe_filtered_threshold.groupby([\"codice_circe\", \"nword\"]):\n",
    "    tutti_testi = subset[\"query_clean\"].tolist()\n",
    "    clusters = clusterizza_testi(tutti_testi, soglia=80)\n",
    "    for i, gruppo in enumerate(clusters, start=1):\n",
    "        label = scegli_label(gruppo, tutti_testi)\n",
    "        for testo in gruppo:\n",
    "            risultati.append({\n",
    "                \"codice_circe\": codice,\n",
    "                \"nword\": nword,\n",
    "                \"cluster_id\": f\"{codice}_{nword}_{i}\",\n",
    "                \"testo\": testo,\n",
    "                \"label_finale\": label\n",
    "            })\n"
   ]
  },
  {
   "cell_type": "code",
   "execution_count": null,
   "id": "c2fab2b5",
   "metadata": {},
   "outputs": [],
   "source": [
    "# === 5. Salvo in due CSV ===\n",
    "out_df = pd.DataFrame(risultati)\n",
    "out_df.to_csv(f\"output/cluster_output_threshold_{THRESHOLD}.csv\", sep=\";\", index=False)\n",
    "\n",
    "# File riepilogativo (senza ripetizioni)\n",
    "final_df = out_df[[\"codice_circe\", \"nword\", \"cluster_id\", \"label_finale\"]].drop_duplicates()\n",
    "final_df.to_csv(f\"output/cluster_summary_threshold_{THRESHOLD}.csv\", sep=\";\", index=False)\n",
    "\n",
    "print(\"Clustering completato:\")\n",
    "print(\"- cluster_output.csv -> tutti i testi con cluster\")\n",
    "print(\"- cluster_summary.csv -> riepilogo unico cluster\")\n"
   ]
  }
 ],
 "metadata": {
  "kernelspec": {
   "display_name": "Python 3",
   "language": "python",
   "name": "python3"
  },
  "language_info": {
   "codemirror_mode": {
    "name": "ipython",
    "version": 3
   },
   "file_extension": ".py",
   "mimetype": "text/x-python",
   "name": "python",
   "nbconvert_exporter": "python",
   "pygments_lexer": "ipython3",
   "version": "3.12.2"
  }
 },
 "nbformat": 4,
 "nbformat_minor": 5
}
